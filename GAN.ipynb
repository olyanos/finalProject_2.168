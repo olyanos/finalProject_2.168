{
 "cells": [
  {
   "cell_type": "code",
   "execution_count": 39,
   "metadata": {},
   "outputs": [],
   "source": [
    "# first let's import all the needed libraries\n",
    "import tensorflow as tf\n",
    "import numpy as np\n",
    "import matplotlib.pyplot as plt\n",
    "import scipy.io as sio\n",
    "import numpy as np\n",
    "from numpy import loadtxt\n",
    "\n",
    "#import keras as k"
   ]
  },
  {
   "cell_type": "code",
   "execution_count": 49,
   "metadata": {},
   "outputs": [
    {
     "data": {
      "text/plain": [
       "(4822, 28)"
      ]
     },
     "execution_count": 49,
     "metadata": {},
     "output_type": "execute_result"
    }
   ],
   "source": [
    "# let's load the data\n",
    "PrimaryUPod = loadtxt(\"comp_prim_data.txt\", delimiter=\",\", unpack=False)\n",
    "PrimaryUPod.shape"
   ]
  },
  {
   "cell_type": "code",
   "execution_count": 57,
   "metadata": {},
   "outputs": [
    {
     "data": {
      "text/plain": [
       "array([ 7.3580e+05,  3.0475e+01,  2.4625e+01,  2.3000e+01,  2.2000e+01,\n",
       "        1.6800e+02,  1.0200e+03,  8.7500e+00,  1.3025e-02,  7.7996e-01,\n",
       "        8.6260e-01,  6.3450e-01,  2.8832e+00,  5.0000e-02,  2.2250e-02,\n",
       "        2.0000e-02,  2.8523e+00,  5.8673e+00,  3.1250e-02,  1.8927e+00,\n",
       "        6.0340e+01,  5.6057e+01,  2.5675e+00,  3.8217e+02,  2.4172e+01,\n",
       "        3.5138e+01, -3.4500e-02,  7.3580e+05])"
      ]
     },
     "execution_count": 57,
     "metadata": {},
     "output_type": "execute_result"
    }
   ],
   "source": [
    "#PrimaryUPod_vector = PrimaryUPod.reshape(-1,1)\n",
    "\n",
    "x = np.transpose(PrimaryUPod) # x is a mtrix of all the examples, each column is an example\n",
    "x[:,0] # accessing the first example"
   ]
  },
  {
   "cell_type": "code",
   "execution_count": null,
   "metadata": {},
   "outputs": [],
   "source": []
  }
 ],
 "metadata": {
  "kernelspec": {
   "display_name": "Python 3",
   "language": "python",
   "name": "python3"
  },
  "language_info": {
   "codemirror_mode": {
    "name": "ipython",
    "version": 3
   },
   "file_extension": ".py",
   "mimetype": "text/x-python",
   "name": "python",
   "nbconvert_exporter": "python",
   "pygments_lexer": "ipython3",
   "version": "3.6.8"
  }
 },
 "nbformat": 4,
 "nbformat_minor": 2
}
